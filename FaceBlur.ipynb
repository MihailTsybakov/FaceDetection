{
 "cells": [
  {
   "cell_type": "code",
   "execution_count": 2,
   "id": "b6bc22b5",
   "metadata": {},
   "outputs": [],
   "source": [
    "import cv2\n",
    "import numpy as np\n",
    "import mediapipe as mp\n",
    "from mediapipe.tasks import python\n",
    "from mediapipe.tasks.python import vision"
   ]
  },
  {
   "cell_type": "code",
   "execution_count": 21,
   "id": "beac81f0",
   "metadata": {},
   "outputs": [
    {
     "name": "stdout",
     "output_type": "stream",
     "text": [
      " Video Captured: True\n",
      " FPS: 25.0\n",
      " Total Frames: 5090.0\n"
     ]
    }
   ],
   "source": [
    "video_cap = cv2.VideoCapture('Serso.mp4')\n",
    "\n",
    "print(f' Video Captured: {video_cap.isOpened()}')\n",
    "print(f' FPS: {video_cap.get(5)}')\n",
    "print(f' Total Frames: {video_cap.get(7)}')"
   ]
  },
  {
   "cell_type": "code",
   "execution_count": 22,
   "id": "47becb79",
   "metadata": {},
   "outputs": [],
   "source": [
    "# Model initialization\n",
    "base_options = python.BaseOptions(model_asset_path='blaze_face_short_range.tflite')\n",
    "options = vision.FaceDetectorOptions(base_options=base_options)\n",
    "\n",
    "detector = vision.FaceDetector.create_from_options(options)"
   ]
  },
  {
   "cell_type": "code",
   "execution_count": 23,
   "id": "09459519",
   "metadata": {},
   "outputs": [],
   "source": [
    "# Detection & Bounding box visualization\n",
    "def detect(model, frame, blur):\n",
    "    rgb_frame = mp.Image(image_format = mp.ImageFormat.SRGB, data = frame)\n",
    "    detection_result = model.detect(rgb_frame)\n",
    "    processed_frame = frame.copy()\n",
    "    \n",
    "    for detected in detection_result.detections:\n",
    "        bounds = detected.bounding_box\n",
    "        left_upper = (bounds.origin_x, bounds.origin_y)\n",
    "        right_bottom = (bounds.origin_x + bounds.width, bounds.origin_y + bounds.height)\n",
    "        \n",
    "        \n",
    "        if (blur == True):\n",
    "            crop_fragment = frame[bounds.origin_y : bounds.origin_y + bounds.height, \n",
    "                                  bounds.origin_x : bounds.origin_x + bounds.width]\n",
    "            \n",
    "            blurred_fragment = cv2.blur(crop_fragment, (65,65))\n",
    "            \n",
    "            processed_frame[bounds.origin_y : bounds.origin_y + bounds.height, \n",
    "                            bounds.origin_x : bounds.origin_x + bounds.width] = blurred_fragment\n",
    "        else:\n",
    "            # Bounding box\n",
    "            object_category = detected.categories[0]\n",
    "            score = round(object_category.score, 3)\n",
    "            cv2.rectangle(processed_frame, left_upper, right_bottom, (255, 0, 255), 1)\n",
    "            score_text_location = (10 + bounds.origin_x, -10 + bounds.origin_y)\n",
    "            cv2.putText(processed_frame, f'score: {score}', score_text_location, cv2.FONT_HERSHEY_PLAIN, 1, (255, 0, 255))\n",
    "        \n",
    "    return processed_frame\n",
    "\n",
    "def finalize_capture(vid_cap):\n",
    "    vid_cap.release()\n",
    "    cv2.destroyAllWindows()"
   ]
  },
  {
   "cell_type": "code",
   "execution_count": 24,
   "id": "96306e3b",
   "metadata": {},
   "outputs": [],
   "source": [
    "# Detection loop\n",
    "frame_num = 0\n",
    "\n",
    "while (video_cap.isOpened()):\n",
    "    frame_num += 1\n",
    "    flag, frame = video_cap.read()\n",
    "    \n",
    "    if (flag == True):\n",
    "        processed_frame = detect(detector, frame, blur = True)\n",
    "        cv2.imshow(f'Frame', processed_frame)\n",
    "        \n",
    "        key = cv2.waitKey(40)\n",
    "    \n",
    "        if (key == ord('q')) or key == 27:\n",
    "            break\n",
    "    else:\n",
    "        break\n",
    "\n",
    "finalize_capture(video_cap)"
   ]
  },
  {
   "cell_type": "code",
   "execution_count": null,
   "id": "821d8b7f",
   "metadata": {},
   "outputs": [],
   "source": []
  }
 ],
 "metadata": {
  "kernelspec": {
   "display_name": "Python 3 (ipykernel)",
   "language": "python",
   "name": "python3"
  },
  "language_info": {
   "codemirror_mode": {
    "name": "ipython",
    "version": 3
   },
   "file_extension": ".py",
   "mimetype": "text/x-python",
   "name": "python",
   "nbconvert_exporter": "python",
   "pygments_lexer": "ipython3",
   "version": "3.9.12"
  }
 },
 "nbformat": 4,
 "nbformat_minor": 5
}
